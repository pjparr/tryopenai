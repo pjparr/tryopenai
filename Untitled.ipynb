{
 "cells": [
  {
   "cell_type": "code",
   "execution_count": 1,
   "id": "4657a686-3569-4d1b-8c7c-93a95b5395e5",
   "metadata": {},
   "outputs": [
    {
     "ename": "SyntaxError",
     "evalue": "unterminated string literal (detected at line 1) (275566603.py, line 1)",
     "output_type": "error",
     "traceback": [
      "\u001b[1;36m  Cell \u001b[1;32mIn[1], line 1\u001b[1;36m\u001b[0m\n\u001b[1;33m    print(\"asdasd)\u001b[0m\n\u001b[1;37m          ^\u001b[0m\n\u001b[1;31mSyntaxError\u001b[0m\u001b[1;31m:\u001b[0m unterminated string literal (detected at line 1)\n"
     ]
    }
   ],
   "source": [
    "print(\"asdasd)"
   ]
  },
  {
   "cell_type": "code",
   "execution_count": 3,
   "id": "f63a4b2c-9273-4da9-8a65-f2d022a49cbf",
   "metadata": {},
   "outputs": [
    {
     "name": "stdout",
     "output_type": "stream",
     "text": [
      "sdsadadsd\n"
     ]
    }
   ],
   "source": [
    "print(\"sdsadadsd\")"
   ]
  },
  {
   "cell_type": "markdown",
   "id": "76cfeba5-dfe1-44bb-b72e-9f85ff703185",
   "metadata": {},
   "source": [
    "##sfsfdsdfsdfsfsfs"
   ]
  },
  {
   "cell_type": "code",
   "execution_count": null,
   "id": "6bb3dc19-2e33-4f38-bc86-06f6b63da6ec",
   "metadata": {},
   "outputs": [],
   "source": []
  },
  {
   "cell_type": "code",
   "execution_count": null,
   "id": "e7167853-9fa1-43c7-992f-43a38fb70106",
   "metadata": {},
   "outputs": [],
   "source": []
  }
 ],
 "metadata": {
  "kernelspec": {
   "display_name": "Python 3 (ipykernel)",
   "language": "python",
   "name": "python3"
  },
  "language_info": {
   "codemirror_mode": {
    "name": "ipython",
    "version": 3
   },
   "file_extension": ".py",
   "mimetype": "text/x-python",
   "name": "python",
   "nbconvert_exporter": "python",
   "pygments_lexer": "ipython3",
   "version": "3.12.5"
  }
 },
 "nbformat": 4,
 "nbformat_minor": 5
}
